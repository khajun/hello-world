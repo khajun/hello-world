{
 "cells": [
  {
   "cell_type": "markdown",
   "metadata": {},
   "source": [
    "# 영화분석 팀프로젝트1\n",
    "## 주제1. 2018년도 영화 키워드 분석 \n",
    "\n",
    "> - 2018년도 영화 분석 : 영화별 평점, 댓글수 등\n",
    "> - 랭킹 분석 : 영화랭킹, 장르별, 감독, 연기자 => TOP5 선정\n",
    "> - TOP5 키워드 분석 : 뉴스, 블로그, 카페, 영화평, 댓글 등 키워드 분석\n",
    "> - 결론 : 미리보는 연말영화시상예측 및 주요키워드에 따른 2018년도 주요트랜드 파악"
   ]
  },
  {
   "cell_type": "markdown",
   "metadata": {},
   "source": [
    "## 팀프로젝트 과제물 제출방법\n",
    "\n",
    "> - 프로젝트명 : OOOO OOOO 데이터 분석\n",
    "> - 참가인원 : 팀원명(email), 팀원명(email), 팀원명(email), 팀원명(email)\n",
    "> 제출파일\n",
    ">  소스 파일 \n",
    "    - 팀명01_Filename.ipynb : OOO 데이터 크롤링 (사이트URL, 수집데이터 항목) \n",
    "    - 팀명02_Filename.ipynb : OOO 데이터 분석 및 시각화\n",
    "> 데이터 파일 \n",
    "    - 1_OOOO.csv : \n",
    "    - 2_OOOO.csv :\n"
   ]
  },
  {
   "cell_type": "markdown",
   "metadata": {},
   "source": [
    "## 2018년 개봉영화 중 제39회 청룡영화상 후보작 선정 \n",
    "#### 이전 수상작을 기준으로 유의미한 변수를 도출하여 2018년 후보작을 예측하고 실제 후보작과 비교 \n",
    "- 최우수작품상, 남우주연상, 여우주연상 기준 \n",
    "- 2018 개봉영화 중 흥행순위 기준 70위권"
   ]
  },
  {
   "cell_type": "markdown",
   "metadata": {},
   "source": [
    "### 1112(월)\n",
    "> - 가설 1)  전문가 참가자수가 높은 영화는 최우수 작품상 후보에 오를것이다\n",
    "> - 가설 2)  음악상과 촬영상 등 특수한 분야에서 수상한 영화는 리뷰에서 특수분야에 대한 언급 확률이 높을 것이다. \n",
    "\n",
    "\n",
    "파일명_[영화 selenium] : selenium으로 댓글 크롤링 할 수 있는 페이지 이동 \n",
    "\n",
    "파일명_[영화 selenium] : selenium으로 영화 평가 참가자수  크롤링 할 수 있는 페이지 이동 \n",
    "\n",
    "상훈오빠 : 2014 음삭상과 촬영상을 받은 <군도;민란의 시대>  댓글 크롤링 해서 형태소 분석으로 주요 키워드 뽑아내는 작업  "
   ]
  },
  {
   "cell_type": "markdown",
   "metadata": {},
   "source": [
    "\n",
    "내일 할일 )  데이터 만들기 \n",
    "- 가설2 // 음향상&작품상 / 5년치 데이터 뽑아서 형태소 분석 비교 \n",
    "- 5개년 음향상, 촬영상 데이터 만들기 "
   ]
  },
  {
   "cell_type": "markdown",
   "metadata": {},
   "source": [
    "변수 타당성 \n",
    "-> 크롤링한 댓글의 단어와 수상의 관계성\n",
    ": 우리가 이전 수상작에서 뽑아낸 음향 관련 단어들을 포함하고 있는 영화(70개중) \n",
    ": 평론가 댓글 분석-> 평론가 댓글이 하나도 없는 경우 "
   ]
  },
  {
   "cell_type": "code",
   "execution_count": null,
   "metadata": {},
   "outputs": [],
   "source": []
  }
 ],
 "metadata": {
  "kernelspec": {
   "display_name": "Python 3",
   "language": "python",
   "name": "python3"
  },
  "language_info": {
   "codemirror_mode": {
    "name": "ipython",
    "version": 3
   },
   "file_extension": ".py",
   "mimetype": "text/x-python",
   "name": "python",
   "nbconvert_exporter": "python",
   "pygments_lexer": "ipython3",
   "version": "3.7.0"
  }
 },
 "nbformat": 4,
 "nbformat_minor": 2
}
