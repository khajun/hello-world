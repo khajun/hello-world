{
 "cells": [
  {
   "cell_type": "code",
   "execution_count": 15,
   "metadata": {},
   "outputs": [],
   "source": [
    "from bs4 import BeautifulSoup \n",
    "from urllib.request import urlopen\n",
    "\n",
    "import pandas as pd\n",
    "import re"
   ]
  },
  {
   "cell_type": "code",
   "execution_count": null,
   "metadata": {},
   "outputs": [],
   "source": [
    "for i in range(len(df['title'])):\n",
    "    url_page = \"https://movie.naver.com/movie/bi/mi/basic.nhn?code={}\".format(df['code'][i])\n",
    "    html = urlopen(url_page)\n",
    "    soup = BeautifulSoup(html, \"lxml\")\n",
    "    tag_infos = soup.find_all('div', 'mv_info')\n",
    "    mv_info = tag_infos[1]\n",
    "    star_scores = mv_info.find_all('div', 'star_score')\n",
    "    \n",
    "    Scores = list()\n",
    "\n",
    "    for star_score in star_scores:\n",
    "        each_score = star_score.get_text()\n",
    "        re_score = re.search('\\d{1,2}\\.\\d{1,2}', each_score)\n",
    "\n",
    "        if re_score is not None:\n",
    "            score = re_score.group()\n",
    "            # print('[{}]'.format(score))\n",
    "            Scores.append(score)\n",
    "        else :\n",
    "            pass\n",
    "            # print('없음')\n",
    "    print(Scores)\n",
    "                                                                            "
   ]
  },
  {
   "cell_type": "code",
   "execution_count": 25,
   "metadata": {},
   "outputs": [
    {
     "name": "stdout",
     "output_type": "stream",
     "text": [
      "[]\n",
      "[]\n",
      "['7.34', '7.11', '6.92']\n"
     ]
    }
   ],
   "source": [
    "for i in range(3):\n",
    "    url_page = \"https://movie.naver.com/movie/bi/mi/basic.nhn?code=9975{}\".format(i)\n",
    "    html = urlopen(url_page)\n",
    "    soup = BeautifulSoup(html, \"lxml\")\n",
    "    tag_infos = soup.find_all('div', 'mv_info')\n",
    "    mv_info = tag_infos[1]\n",
    "    star_scores = mv_info.find_all('div', 'star_score')\n",
    "    \n",
    "    Scores = list()\n",
    "\n",
    "    for star_score in star_scores:\n",
    "        each_score = star_score.get_text()\n",
    "        re_score = re.search('\\d{1,2}\\.\\d{1,2}', each_score)\n",
    "\n",
    "        if re_score is not None:\n",
    "            score = re_score.group()\n",
    "            # print('[{}]'.format(score))\n",
    "            Scores.append(score)\n",
    "        else :\n",
    "            pass\n",
    "            # print('없음')\n",
    "    print(Scores)"
   ]
  },
  {
   "cell_type": "code",
   "execution_count": 20,
   "metadata": {},
   "outputs": [
    {
     "data": {
      "text/plain": [
       "5"
      ]
     },
     "execution_count": 20,
     "metadata": {},
     "output_type": "execute_result"
    }
   ],
   "source": [
    "url_page = \"https://movie.naver.com/movie/bi/mi/basic.nhn?code=99752\"\n",
    "html = urlopen(url_page)\n",
    "soup = BeautifulSoup(html, \"lxml\")\n",
    "tag_infos = soup.find_all('div', 'mv_info')\n",
    "mv_info = tag_infos[1]\n",
    "star_scores = mv_info.find_all('div', 'star_score')\n",
    "len(star_scores)"
   ]
  },
  {
   "cell_type": "code",
   "execution_count": 26,
   "metadata": {},
   "outputs": [
    {
     "data": {
      "text/plain": [
       "['7.34', '7.11', '6.92']"
      ]
     },
     "execution_count": 26,
     "metadata": {},
     "output_type": "execute_result"
    }
   ],
   "source": [
    "Scores = list()\n",
    "\n",
    "for star_score in star_scores:\n",
    "    each_score = star_score.get_text()\n",
    "    re_score = re.search('\\d{1,2}\\.\\d{1,2}', each_score)\n",
    "    \n",
    "    if re_score is not None:\n",
    "        score = re_score.group()\n",
    "        # print('[{}]'.format(score))\n",
    "        Scores.append(score)\n",
    "    else :\n",
    "        pass\n",
    "        # print('없음')\n",
    "        \n",
    "\n",
    "Scores"
   ]
  },
  {
   "cell_type": "code",
   "execution_count": 22,
   "metadata": {},
   "outputs": [
    {
     "data": {
      "text/plain": [
       "'관람객:7.34 / 평론가:7.11 / 네티즌6.92'"
      ]
     },
     "execution_count": 22,
     "metadata": {},
     "output_type": "execute_result"
    }
   ],
   "source": [
    "# if len(Scores) > 2:\n",
    "#     score1 = Scores[0]\n",
    "#     score2 = Scores[1]\n",
    "#     score3 = Scores[2]\n",
    "\n",
    "# \"관람객:{} / 평론가:{} / 네티즌{}\".format(score1, score2, score3)"
   ]
  },
  {
   "cell_type": "code",
   "execution_count": null,
   "metadata": {},
   "outputs": [],
   "source": []
  }
 ],
 "metadata": {
  "kernelspec": {
   "display_name": "Python 3",
   "language": "python",
   "name": "python3"
  },
  "language_info": {
   "codemirror_mode": {
    "name": "ipython",
    "version": 3
   },
   "file_extension": ".py",
   "mimetype": "text/x-python",
   "name": "python",
   "nbconvert_exporter": "python",
   "pygments_lexer": "ipython3",
   "version": "3.7.0"
  }
 },
 "nbformat": 4,
 "nbformat_minor": 2
}
