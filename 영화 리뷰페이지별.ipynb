{
 "cells": [
  {
   "cell_type": "code",
   "execution_count": 1,
   "metadata": {},
   "outputs": [],
   "source": [
    "#영화 리뷰 selenium 통해서 자동화 시키기 \n",
    "# https://movie.naver.com/movie/point/af/list.nhn"
   ]
  },
  {
   "cell_type": "code",
   "execution_count": 2,
   "metadata": {},
   "outputs": [],
   "source": [
    "#selenium 설치 \n",
    "# ! pip install selenium"
   ]
  },
  {
   "cell_type": "code",
   "execution_count": 3,
   "metadata": {},
   "outputs": [],
   "source": [
    "from bs4 import BeautifulSoup\n",
    "from selenium import webdriver\n",
    "from IPython.display import Image\n",
    "from urllib.request import urlopen\n",
    "\n",
    "import re"
   ]
  },
  {
   "cell_type": "code",
   "execution_count": 4,
   "metadata": {},
   "outputs": [],
   "source": [
    "# 웹드라이브로 크롬브라우즈 띄운다.\n",
    "driver_path = \"driver/chromedriver.exe\"\n",
    "driver = webdriver.Chrome(executable_path=driver_path)"
   ]
  },
  {
   "cell_type": "code",
   "execution_count": 5,
   "metadata": {},
   "outputs": [],
   "source": [
    "url_page = 'https://movie.naver.com/movie/point/af/list.nhn'\n",
    "driver.get(url_page)"
   ]
  },
  {
   "cell_type": "code",
   "execution_count": 6,
   "metadata": {},
   "outputs": [],
   "source": [
    "driver.find_element_by_xpath('//*[@id=\"old_content\"]/fieldset/form/select').click()"
   ]
  },
  {
   "cell_type": "code",
   "execution_count": 7,
   "metadata": {},
   "outputs": [],
   "source": [
    "driver.find_element_by_xpath('//*[@id=\"old_content\"]/fieldset/form/select/option[2]').click()"
   ]
  },
  {
   "cell_type": "code",
   "execution_count": 8,
   "metadata": {},
   "outputs": [],
   "source": [
    "driver.find_element_by_xpath('//*[@id=\"old_content\"]/fieldset/form/input[3]').click()"
   ]
  },
  {
   "cell_type": "code",
   "execution_count": 9,
   "metadata": {},
   "outputs": [],
   "source": [
    "driver.switch_to.window(driver.window_handles[-1])"
   ]
  },
  {
   "cell_type": "code",
   "execution_count": 10,
   "metadata": {
    "scrolled": true
   },
   "outputs": [],
   "source": [
    "driver.find_element_by_xpath('//*[@id=\"page_content\"]/div/div/div/div/form/table/tbody/tr/td/input[1]').click()\n",
    "#driver.find_element_by_css_selector('#page_content > div > div > div > div > form > table > tbody > tr > td > input.input_type_text_1').click()"
   ]
  },
  {
   "cell_type": "code",
   "execution_count": 11,
   "metadata": {},
   "outputs": [],
   "source": [
    "#driver.find_element_by_xpath('//*[@id=\"page_content\"]/div/div/div/div/form/table/tbody/tr/td/input[2]').click()"
   ]
  },
  {
   "cell_type": "code",
   "execution_count": 12,
   "metadata": {},
   "outputs": [],
   "source": [
    "##영화 타이틀 -> 나중에 for 구문으로 돌리기!!!\n",
    "movie_title = '택시운전사'"
   ]
  },
  {
   "cell_type": "code",
   "execution_count": 13,
   "metadata": {},
   "outputs": [],
   "source": [
    "from bs4 import BeautifulSoup\n",
    "from selenium import webdriver\n",
    "from IPython.display import Image\n",
    "import pandas as pd\n",
    "\n",
    "import re"
   ]
  },
  {
   "cell_type": "code",
   "execution_count": 14,
   "metadata": {
    "scrolled": true
   },
   "outputs": [],
   "source": [
    "# movie2018 = pd.read_csv('data/movie2018.csv', sep=',', encoding='euc-kr')\n",
    "# movie2018"
   ]
  },
  {
   "cell_type": "code",
   "execution_count": 15,
   "metadata": {},
   "outputs": [],
   "source": [
    "# movie_title = movie2018['영화명']\n",
    "# movie_title[1]"
   ]
  },
  {
   "cell_type": "code",
   "execution_count": 16,
   "metadata": {},
   "outputs": [],
   "source": [
    "# for i in range(len(movie_title)):\n",
    "#     movie "
   ]
  },
  {
   "cell_type": "code",
   "execution_count": 17,
   "metadata": {},
   "outputs": [],
   "source": [
    "###영화 타이틀 입력\n",
    "driver.find_element_by_css_selector('#page_content > div > div > div > div > form > table > tbody > tr > td > input.input_type_text_1').send_keys(movie_title)"
   ]
  },
  {
   "cell_type": "code",
   "execution_count": 18,
   "metadata": {},
   "outputs": [],
   "source": [
    "driver.find_element_by_xpath('//*[@id=\"page_content\"]/div/div/div/div/form/table/tbody/tr/td/input[2]').click()"
   ]
  },
  {
   "cell_type": "code",
   "execution_count": 19,
   "metadata": {},
   "outputs": [],
   "source": [
    "#영화 선택해서 리뷰 페이지로 가기 \n",
    "driver.find_element_by_xpath('//*[@id=\"page_content\"]/div/div/div[2]/table/tbody/tr[2]/td/a/img').click()"
   ]
  },
  {
   "cell_type": "code",
   "execution_count": 20,
   "metadata": {},
   "outputs": [
    {
     "ename": "NoSuchWindowException",
     "evalue": "Message: no such window: window was already closed\n  (Session info: chrome=70.0.3538.102)\n  (Driver info: chromedriver=2.43.600210 (68dcf5eebde37173d4027fa8635e332711d2874a),platform=Windows NT 6.1.7601 SP1 x86_64)\n",
     "output_type": "error",
     "traceback": [
      "\u001b[1;31m---------------------------------------------------------------------------\u001b[0m",
      "\u001b[1;31mNoSuchWindowException\u001b[0m                     Traceback (most recent call last)",
      "\u001b[1;32m<ipython-input-20-4dfee473b971>\u001b[0m in \u001b[0;36m<module>\u001b[1;34m()\u001b[0m\n\u001b[1;32m----> 1\u001b[1;33m \u001b[0mdriver\u001b[0m\u001b[1;33m.\u001b[0m\u001b[0mfind_element_by_xpath\u001b[0m\u001b[1;33m(\u001b[0m\u001b[1;34m'//*[@id=\"page_content\"]/div/div/div[2]/table/tbody/tr[1]/td[2]/a[1]'\u001b[0m\u001b[1;33m)\u001b[0m\u001b[1;33m.\u001b[0m\u001b[0mclick\u001b[0m\u001b[1;33m(\u001b[0m\u001b[1;33m)\u001b[0m\u001b[1;33m\u001b[0m\u001b[0m\n\u001b[0m\u001b[0;32m      2\u001b[0m \u001b[1;31m#driver.switch_to.window(driver.window_handles[0])\u001b[0m\u001b[1;33m\u001b[0m\u001b[1;33m\u001b[0m\u001b[0m\n",
      "\u001b[1;32mC:\\ProgramData\\Anaconda3\\lib\\site-packages\\selenium\\webdriver\\remote\\webdriver.py\u001b[0m in \u001b[0;36mfind_element_by_xpath\u001b[1;34m(self, xpath)\u001b[0m\n\u001b[0;32m    392\u001b[0m             \u001b[0melement\u001b[0m \u001b[1;33m=\u001b[0m \u001b[0mdriver\u001b[0m\u001b[1;33m.\u001b[0m\u001b[0mfind_element_by_xpath\u001b[0m\u001b[1;33m(\u001b[0m\u001b[1;34m'//div/td[1]'\u001b[0m\u001b[1;33m)\u001b[0m\u001b[1;33m\u001b[0m\u001b[0m\n\u001b[0;32m    393\u001b[0m         \"\"\"\n\u001b[1;32m--> 394\u001b[1;33m         \u001b[1;32mreturn\u001b[0m \u001b[0mself\u001b[0m\u001b[1;33m.\u001b[0m\u001b[0mfind_element\u001b[0m\u001b[1;33m(\u001b[0m\u001b[0mby\u001b[0m\u001b[1;33m=\u001b[0m\u001b[0mBy\u001b[0m\u001b[1;33m.\u001b[0m\u001b[0mXPATH\u001b[0m\u001b[1;33m,\u001b[0m \u001b[0mvalue\u001b[0m\u001b[1;33m=\u001b[0m\u001b[0mxpath\u001b[0m\u001b[1;33m)\u001b[0m\u001b[1;33m\u001b[0m\u001b[0m\n\u001b[0m\u001b[0;32m    395\u001b[0m \u001b[1;33m\u001b[0m\u001b[0m\n\u001b[0;32m    396\u001b[0m     \u001b[1;32mdef\u001b[0m \u001b[0mfind_elements_by_xpath\u001b[0m\u001b[1;33m(\u001b[0m\u001b[0mself\u001b[0m\u001b[1;33m,\u001b[0m \u001b[0mxpath\u001b[0m\u001b[1;33m)\u001b[0m\u001b[1;33m:\u001b[0m\u001b[1;33m\u001b[0m\u001b[0m\n",
      "\u001b[1;32mC:\\ProgramData\\Anaconda3\\lib\\site-packages\\selenium\\webdriver\\remote\\webdriver.py\u001b[0m in \u001b[0;36mfind_element\u001b[1;34m(self, by, value)\u001b[0m\n\u001b[0;32m    976\u001b[0m         return self.execute(Command.FIND_ELEMENT, {\n\u001b[0;32m    977\u001b[0m             \u001b[1;34m'using'\u001b[0m\u001b[1;33m:\u001b[0m \u001b[0mby\u001b[0m\u001b[1;33m,\u001b[0m\u001b[1;33m\u001b[0m\u001b[0m\n\u001b[1;32m--> 978\u001b[1;33m             'value': value})['value']\n\u001b[0m\u001b[0;32m    979\u001b[0m \u001b[1;33m\u001b[0m\u001b[0m\n\u001b[0;32m    980\u001b[0m     \u001b[1;32mdef\u001b[0m \u001b[0mfind_elements\u001b[0m\u001b[1;33m(\u001b[0m\u001b[0mself\u001b[0m\u001b[1;33m,\u001b[0m \u001b[0mby\u001b[0m\u001b[1;33m=\u001b[0m\u001b[0mBy\u001b[0m\u001b[1;33m.\u001b[0m\u001b[0mID\u001b[0m\u001b[1;33m,\u001b[0m \u001b[0mvalue\u001b[0m\u001b[1;33m=\u001b[0m\u001b[1;32mNone\u001b[0m\u001b[1;33m)\u001b[0m\u001b[1;33m:\u001b[0m\u001b[1;33m\u001b[0m\u001b[0m\n",
      "\u001b[1;32mC:\\ProgramData\\Anaconda3\\lib\\site-packages\\selenium\\webdriver\\remote\\webdriver.py\u001b[0m in \u001b[0;36mexecute\u001b[1;34m(self, driver_command, params)\u001b[0m\n\u001b[0;32m    319\u001b[0m         \u001b[0mresponse\u001b[0m \u001b[1;33m=\u001b[0m \u001b[0mself\u001b[0m\u001b[1;33m.\u001b[0m\u001b[0mcommand_executor\u001b[0m\u001b[1;33m.\u001b[0m\u001b[0mexecute\u001b[0m\u001b[1;33m(\u001b[0m\u001b[0mdriver_command\u001b[0m\u001b[1;33m,\u001b[0m \u001b[0mparams\u001b[0m\u001b[1;33m)\u001b[0m\u001b[1;33m\u001b[0m\u001b[0m\n\u001b[0;32m    320\u001b[0m         \u001b[1;32mif\u001b[0m \u001b[0mresponse\u001b[0m\u001b[1;33m:\u001b[0m\u001b[1;33m\u001b[0m\u001b[0m\n\u001b[1;32m--> 321\u001b[1;33m             \u001b[0mself\u001b[0m\u001b[1;33m.\u001b[0m\u001b[0merror_handler\u001b[0m\u001b[1;33m.\u001b[0m\u001b[0mcheck_response\u001b[0m\u001b[1;33m(\u001b[0m\u001b[0mresponse\u001b[0m\u001b[1;33m)\u001b[0m\u001b[1;33m\u001b[0m\u001b[0m\n\u001b[0m\u001b[0;32m    322\u001b[0m             response['value'] = self._unwrap_value(\n\u001b[0;32m    323\u001b[0m                 response.get('value', None))\n",
      "\u001b[1;32mC:\\ProgramData\\Anaconda3\\lib\\site-packages\\selenium\\webdriver\\remote\\errorhandler.py\u001b[0m in \u001b[0;36mcheck_response\u001b[1;34m(self, response)\u001b[0m\n\u001b[0;32m    240\u001b[0m                 \u001b[0malert_text\u001b[0m \u001b[1;33m=\u001b[0m \u001b[0mvalue\u001b[0m\u001b[1;33m[\u001b[0m\u001b[1;34m'alert'\u001b[0m\u001b[1;33m]\u001b[0m\u001b[1;33m.\u001b[0m\u001b[0mget\u001b[0m\u001b[1;33m(\u001b[0m\u001b[1;34m'text'\u001b[0m\u001b[1;33m)\u001b[0m\u001b[1;33m\u001b[0m\u001b[0m\n\u001b[0;32m    241\u001b[0m             \u001b[1;32mraise\u001b[0m \u001b[0mexception_class\u001b[0m\u001b[1;33m(\u001b[0m\u001b[0mmessage\u001b[0m\u001b[1;33m,\u001b[0m \u001b[0mscreen\u001b[0m\u001b[1;33m,\u001b[0m \u001b[0mstacktrace\u001b[0m\u001b[1;33m,\u001b[0m \u001b[0malert_text\u001b[0m\u001b[1;33m)\u001b[0m\u001b[1;33m\u001b[0m\u001b[0m\n\u001b[1;32m--> 242\u001b[1;33m         \u001b[1;32mraise\u001b[0m \u001b[0mexception_class\u001b[0m\u001b[1;33m(\u001b[0m\u001b[0mmessage\u001b[0m\u001b[1;33m,\u001b[0m \u001b[0mscreen\u001b[0m\u001b[1;33m,\u001b[0m \u001b[0mstacktrace\u001b[0m\u001b[1;33m)\u001b[0m\u001b[1;33m\u001b[0m\u001b[0m\n\u001b[0m\u001b[0;32m    243\u001b[0m \u001b[1;33m\u001b[0m\u001b[0m\n\u001b[0;32m    244\u001b[0m     \u001b[1;32mdef\u001b[0m \u001b[0m_value_or_default\u001b[0m\u001b[1;33m(\u001b[0m\u001b[0mself\u001b[0m\u001b[1;33m,\u001b[0m \u001b[0mobj\u001b[0m\u001b[1;33m,\u001b[0m \u001b[0mkey\u001b[0m\u001b[1;33m,\u001b[0m \u001b[0mdefault\u001b[0m\u001b[1;33m)\u001b[0m\u001b[1;33m:\u001b[0m\u001b[1;33m\u001b[0m\u001b[0m\n",
      "\u001b[1;31mNoSuchWindowException\u001b[0m: Message: no such window: window was already closed\n  (Session info: chrome=70.0.3538.102)\n  (Driver info: chromedriver=2.43.600210 (68dcf5eebde37173d4027fa8635e332711d2874a),platform=Windows NT 6.1.7601 SP1 x86_64)\n"
     ]
    }
   ],
   "source": [
    "driver.find_element_by_xpath('//*[@id=\"page_content\"]/div/div/div[2]/table/tbody/tr[1]/td[2]/a[1]').click()\n",
    "#driver.switch_to.window(driver.window_handles[0])"
   ]
  },
  {
   "cell_type": "code",
   "execution_count": null,
   "metadata": {},
   "outputs": [],
   "source": [
    "##새창에서 원래창으로 전환 \n",
    "driver.switch_to.window(driver.window_handles[0])\n",
    "driver.find_element_by_xpath('//*[@id=\"old_content\"]/fieldset/form/input[4]').click()"
   ]
  },
  {
   "cell_type": "code",
   "execution_count": null,
   "metadata": {},
   "outputs": [],
   "source": [
    "##페이지 버튼 클릭\n",
    "#driver.find_element_by_xpath('//*[@id=\"old_content\"]/div[3]/div/a[1]/span').click()"
   ]
  },
  {
   "cell_type": "code",
   "execution_count": null,
   "metadata": {},
   "outputs": [],
   "source": [
    "html = urlopen(driver.current_url)\n",
    "#print(html)\n",
    "soup = BeautifulSoup(html, \"lxml\")"
   ]
  },
  {
   "cell_type": "code",
   "execution_count": null,
   "metadata": {},
   "outputs": [],
   "source": [
    "#코드값 찾아주기 \n",
    "pattern = re.compile(\"\\d{6}\")\n",
    "result = pattern.findall(driver.current_url)\n",
    "code = result[0] if len(result)>0 else ''\n",
    "code"
   ]
  },
  {
   "cell_type": "code",
   "execution_count": null,
   "metadata": {},
   "outputs": [],
   "source": [
    "#리뷰의 총개수\n",
    "num= soup.find(\"strong\",\"c_88 fs_11\").get_text()\n",
    "num\n",
    "num_total = int(num.replace(',', ''))\n",
    "num_total"
   ]
  },
  {
   "cell_type": "code",
   "execution_count": null,
   "metadata": {},
   "outputs": [],
   "source": [
    "#리뷰 총 페이지 수\n",
    "last_page = num_total//10 + 1\n",
    "last_page"
   ]
  },
  {
   "cell_type": "code",
   "execution_count": 23,
   "metadata": {
    "scrolled": false
   },
   "outputs": [
    {
     "ename": "NameError",
     "evalue": "name 'code' is not defined",
     "output_type": "error",
     "traceback": [
      "\u001b[1;31m---------------------------------------------------------------------------\u001b[0m",
      "\u001b[1;31mNameError\u001b[0m                                 Traceback (most recent call last)",
      "\u001b[1;32m<ipython-input-23-e0e9544645ad>\u001b[0m in \u001b[0;36m<module>\u001b[1;34m()\u001b[0m\n\u001b[0;32m      2\u001b[0m \u001b[1;32mfor\u001b[0m \u001b[0mi\u001b[0m \u001b[1;32min\u001b[0m \u001b[0mrange\u001b[0m\u001b[1;33m(\u001b[0m\u001b[1;36m5\u001b[0m\u001b[1;33m)\u001b[0m\u001b[1;33m:\u001b[0m\u001b[1;33m\u001b[0m\u001b[0m\n\u001b[0;32m      3\u001b[0m     \u001b[1;31m#각 리뷰 페이지로 이동해서 그 url로 드라이버 창 넘어가고-> 수프화\u001b[0m\u001b[1;33m\u001b[0m\u001b[1;33m\u001b[0m\u001b[0m\n\u001b[1;32m----> 4\u001b[1;33m     \u001b[0murl_page\u001b[0m \u001b[1;33m=\u001b[0m \u001b[1;34m'https://movie.naver.com/movie/point/af/list.nhn?st=mcode&sword={}}&target=&page={}'\u001b[0m\u001b[1;33m.\u001b[0m\u001b[0mformat\u001b[0m\u001b[1;33m(\u001b[0m\u001b[0mcode\u001b[0m\u001b[1;33m,\u001b[0m \u001b[1;33m(\u001b[0m\u001b[0mi\u001b[0m\u001b[1;33m)\u001b[0m\u001b[1;33m+\u001b[0m\u001b[1;36m1\u001b[0m\u001b[1;33m)\u001b[0m\u001b[1;33m\u001b[0m\u001b[0m\n\u001b[0m\u001b[0;32m      5\u001b[0m     \u001b[0mprint\u001b[0m\u001b[1;33m(\u001b[0m\u001b[0murl_page\u001b[0m\u001b[1;33m)\u001b[0m\u001b[1;33m\u001b[0m\u001b[0m\n\u001b[0;32m      6\u001b[0m     \u001b[0mdriver\u001b[0m\u001b[1;33m.\u001b[0m\u001b[0mget\u001b[0m\u001b[1;33m(\u001b[0m\u001b[0murl_page\u001b[0m\u001b[1;33m)\u001b[0m\u001b[1;33m\u001b[0m\u001b[0m\n",
      "\u001b[1;31mNameError\u001b[0m: name 'code' is not defined"
     ]
    }
   ],
   "source": [
    "r = []\n",
    "for i in range(5):\n",
    "    #각 리뷰 페이지로 이동해서 그 url로 드라이버 창 넘어가고-> 수프화\n",
    "    url_page = 'https://movie.naver.com/movie/point/af/list.nhn?st=mcode&sword={}}&target=&page={}'.format(code, (i)+1)\n",
    "    print(url_page)\n",
    "    driver.get(url_page)\n",
    "    html = urlopen(url_page)\n",
    "    soup = BeautifulSoup(html, \"lxml\")\n",
    "    #리뷰들 뽑아줌     \n",
    "    review = soup.find_all(\"td\",\"title\")\n",
    "    for i in range(len(review)):\n",
    "        review[i] = review[i].get_text()\n",
    "        review[i] = review[i].replace('\\n', '')\n",
    "        review[i] = review[i].replace('택시운전사', '')\n",
    "        review[i] = review[i].replace('\\r', '')\n",
    "        review[i] = review[i].replace('\\t', '')\n",
    "        review[i] = review[i].replace('신고', '')\n",
    "        r.append(review[i])\n",
    "r\n",
    "    \n"
   ]
  },
  {
   "cell_type": "markdown",
   "metadata": {},
   "source": [
    "# 여기여기 리뷰 페이지별 뽑기!!!!!!!!!!!!!!!!!!"
   ]
  },
  {
   "cell_type": "code",
   "execution_count": 26,
   "metadata": {},
   "outputs": [
    {
     "name": "stdout",
     "output_type": "stream",
     "text": [
      "https://movie.naver.com/movie/point/af/list.nhn?st=mcode&sword=146469&target=&page=1\n",
      "https://movie.naver.com/movie/point/af/list.nhn?st=mcode&sword=146469&target=&page=2\n",
      "https://movie.naver.com/movie/point/af/list.nhn?st=mcode&sword=146469&target=&page=3\n",
      "https://movie.naver.com/movie/point/af/list.nhn?st=mcode&sword=146469&target=&page=4\n",
      "https://movie.naver.com/movie/point/af/list.nhn?st=mcode&sword=146469&target=&page=5\n"
     ]
    },
    {
     "data": {
      "text/plain": [
       "['이제 5.18 관련 영화는 그만 나왔으면 좋겠다. 많이 해먹었잖아. 특별법에 가산점에 . 지금은 거의 성역이고 ',\n",
       " '흠....정치 영화군...!!! ',\n",
       " '감명깊게 봤습니다.. 독일기자와 . ',\n",
       " '꼭 봐요!!!  가슴이찡하네요~~~ ',\n",
       " '전형적인 선동영화ㅋㅋㅋㅋ ',\n",
       " '그들은 이해하지 못하는 명작 ',\n",
       " '1점으로 댓글다는 새끼들 다 그쪽인가보네ㅉㅉ 아직도 정신못차린것들이 있다니 ',\n",
       " '구데기같은 프로파간다영화 왜 실검에 올려놨냐 ',\n",
       " '택시기사들이 명량찍은 것 빼고는 좋았다 ',\n",
       " '한남충이나 좋아하는 영화 ',\n",
       " '왜 갑자기 이 영화를 다시 이슈화 시키는지?ㅋ ',\n",
       " '실화라니..너무 마음이 찡했던 영화였고 나중에 두분이 실제로 못만나고 돌아가신게 참 안타까운것 같습니다.  또 5.18에 대해 잘 알게 되었던 좋았던 영화인것 같습니다 ',\n",
       " '역시 그들은 1점에 악플다네... 몇백년전부터 근본없이 선동질 이간질 하며 버텨온 종족들 정말 너무 싫다 ',\n",
       " '그 살인마는 아직 잘 살고 있지요 대한민국의 법은 있는겁니까 없는놈은 범죄자 있는놈은 아직도 잘먹고 잘사는 나라 개한민국 ',\n",
       " '보는 사람마다 관점은 다르겠지만 노잼이다. ',\n",
       " '가짜영화  억지감동유발 ',\n",
       " '광주사람인데 위르겐 과 김사복 선생님 포함 당시 희생당하셨던 선생님들 정말 감사합니다 ',\n",
       " '히트친 영화들 특징 : 다시 틀어줄 때마다 연검에 오름 ',\n",
       " '온 국민이 봐야되는 영화 간만에 명작봤네요 ',\n",
       " '다시 한 번 과거에 광주에 있었던 일을 되새길 수 있는 영화였고  기존에 알고 있던 내용이 아닌 것이 많아 새로운 걸 알아가는 거같아 좋았고 배우들의 연기는 최고였다 ',\n",
       " '꼭 봐야할영화...절대 잊어선안될 ',\n",
       " '518 유공자 명단을 왜 공개 못할까.  해마다 계속 추가되는 게 말이 되냐. ',\n",
       " '손님두고왔다고 고해성사하는 영화 ',\n",
       " '아버지는 택시드라이버~어디냐고 물어보면 항상 양화대교~ ',\n",
       " '이영화는 보는 재미가 있게 만들었지만 광주 518 다큐멘터리도 따로 보고 정말이지 비분강개 통탄  안을 수 없다. 시대의 상황을 보면 피가 치 솟는다. 울분과 분노 ',\n",
       " '가슴이찢기듯슬픈영화공짜로봤는데돈을줘도안아까운영화 ',\n",
       " '그때의 아픔을 조금이나마 공감할 수 있는 영화 ',\n",
       " '모두 이 날을 기억합시다 ',\n",
       " '일베들이 평점을 떨어트리려고 아무리 애써봐도 평점이 9점 이상... ',\n",
       " '왜 시민들이 칼빈소총 탈취해서 총쏜건 영화에 안담고 맞아죽는것만 담으셨는지..사실을 밝힐려면 정확하게 영화로 표현하시던지... ',\n",
       " '실검에 다시 뜨는 걸 보고 왔는데 항상 평점을 남겨 놓는 습관이 있는데 안 해놓아서 해놓습니다. 너무 즐겁고 재밌고 시대를 알 수 있는 것들이 많이 나와서 유익 했습니다. ',\n",
       " '댓글에 전두환 찬양하는 친일매국노 대구일베것들은 무시하세요. 그당시 사람들쏴죽였던 군인들과 그 자식들일 확률이높아요. 니들은 이영화를보며 사과를했어야했다. ',\n",
       " '이렇게 조상들이 피와 땀, 희생으로 일궈낸 민주화를 현재 이나라 대통령께서 전부 말아 쳐드시고 있는중 ^^ ',\n",
       " '두번 세번 봐도 좋은 영화 ',\n",
       " '우리가 서 있는 이 땅이, 이 세상이 누군가의 희생과 피 그리고 뼈에 맺힌 회안으로 만들어졌음을 알아야 한다. ',\n",
       " '연출도 좋고 배우들 연기는 더 좋은데다가 자연스러웠다. 아쉬운 점은 후반으로 치달을 수록 인위적인 연출들을 껴넣어 영화의 감동을 반감시켰다는점이다. 택시 추격신은 넣어서는 안됐다. ',\n",
       " '보수단체에선 북괴들이 내려와서 광주주민와 총기탈취해서 폭동했다고 함하나종복이 여려종복이 만든다고 ',\n",
       " '와~~ 밑에댓글 기가막힌다 관종이야 아님 인생포기했나? 니부모나형제가당하고나면 저런소리못하지 ㅋㅋ 진짜 알지도못하는게 무식하기까지해 불쌍한인간이네 ~~  ㅁㅊ ',\n",
       " '최고의 영화. 모든 배우분들 다 연기 너무 잘하셔서 몰입감 장난아니였어요. 광주에는 오월에 제사 없는 집이 없다고 하죠.. 광주시민 감사합니다. ',\n",
       " '그야말로 홍어들의 대잔치 ',\n",
       " '라도를 믿는이 지나가는 흑인말을 믿겠다 ',\n",
       " '1점도 아깝다 진짜 tnt 2100발 설치. 교도소.경찰소 습격 총기로 무장해 시민군이라는 미명하에 같은 광주시민 학살. 군이 파견한 문관 배승일이 겨우 대학생의 요청과 도움을 받아 2일에 걸쳐 폭탄해체. 광주는 폭동이고 테러였고 전쟁범죄다 ',\n",
       " '극중에서도 나왔던것처럼 전화도 끊을수 있던 시절인데, 다른지역사는 자유민도 모르던 사실을 군대처럼 폐쇠적인 집단에서 군인이 자신들이 마주한 사람들이 시민인지 폭도인지 알 방법이 있나. ',\n",
       " '공수부대들 우리집대문 깨부술듯 두들길때 이불속에서 덜덜떨었던 어린시절 그날밤을 잊을수가없다.. ',\n",
       " '꼭봐야할영화연기구멍하나없고시간가는줄모르고봄 ',\n",
       " ' 역사왜곡이 심하네요 총든폭도들을 진압한건데 왜 등장한폭도들은 총이없죠? 모르는사람들이보면 오해합니다. 군인들이 일반시민쏴죽인줄알고... ',\n",
       " '감동적 입니다.제가 이렇게나마 살수 있는것에 감사한 마음을 갖 었 습니다. ',\n",
       " '역겨운 역사의 아름다운 영화 ',\n",
       " '눈물나게하네요 감사합니다. ',\n",
       " '무섭다 무서워 여동생이 영화보고 사람들 불쌍하다고해서 무섭다 아무것도 모르는 어린애들은 영화를보고 역사를 배울까무섭다 그래서 시위과정에서 북한군 이야기와 경찰서 총기탈취 형사도 죽이고한자료를 찾아보여주었다서로 싸운걸 한쪽이 잘못한듯영화를만들면 쓰나 ']"
      ]
     },
     "execution_count": 26,
     "metadata": {},
     "output_type": "execute_result"
    }
   ],
   "source": [
    "r = []\n",
    "for i in range(5):\n",
    "    #각 리뷰 페이지로 이동해서 그 url로 드라이버 창 넘어가고-> 수프화\n",
    "    url_page = 'https://movie.naver.com/movie/point/af/list.nhn?st=mcode&sword=146469&target=&page={}'.format(i+1)\n",
    "    print(url_page)\n",
    "    #driver.get(url_page)\n",
    "    html = urlopen(url_page)\n",
    "    soup = BeautifulSoup(html, \"lxml\")\n",
    "    #리뷰들 뽑아줌     \n",
    "    review = soup.find_all(\"td\",\"title\")\n",
    "    for i in range(len(review)):\n",
    "        review[i] = review[i].get_text()\n",
    "        review[i] = review[i].replace('\\n', '')\n",
    "        review[i] = review[i].replace('택시운전사', '')\n",
    "        review[i] = review[i].replace('\\r', '')\n",
    "        review[i] = review[i].replace('\\t', '')\n",
    "        review[i] = review[i].replace('신고', '')\n",
    "        r.append(review[i])\n",
    "r"
   ]
  },
  {
   "cell_type": "code",
   "execution_count": null,
   "metadata": {},
   "outputs": [],
   "source": [
    "url_page = 'https://movie.naver.com/movie/point/af/list.nhn?st=mcode&sword=146469&target='\n",
    "driver.get(url_page)\n",
    "html = urlopen(url_page)\n",
    "soup = BeautifulSoup(html, \"lxml\")"
   ]
  },
  {
   "cell_type": "code",
   "execution_count": null,
   "metadata": {},
   "outputs": [],
   "source": [
    "soup.find_all(\"td\",\"title\")[1].get_text()"
   ]
  },
  {
   "cell_type": "code",
   "execution_count": null,
   "metadata": {},
   "outputs": [],
   "source": [
    "#url_page = 'https://movie.naver.com/movie/bi/mi/review.nhn?code={}&page={}'.format(code, last_page)\n",
    "#driver.get(url_page)"
   ]
  },
  {
   "cell_type": "code",
   "execution_count": null,
   "metadata": {},
   "outputs": [],
   "source": [
    "#soup = BeautifulSoup(html, \"lxml\")"
   ]
  },
  {
   "cell_type": "code",
   "execution_count": 22,
   "metadata": {},
   "outputs": [
    {
     "data": {
      "text/plain": [
       "['이제 5.18 관련 영화는 그만 나왔으면 좋겠다. 많이 해먹었잖아. 특별법에 가산점에 . 지금은 거의 성역이고 ',\n",
       " '흠....정치 영화군...!!! ',\n",
       " '감명깊게 봤습니다.. 독일기자와 . ',\n",
       " '꼭 봐요!!!  가슴이찡하네요~~~ ',\n",
       " '전형적인 선동영화ㅋㅋㅋㅋ ',\n",
       " '그들은 이해하지 못하는 명작 ',\n",
       " '1점으로 댓글다는 새끼들 다 그쪽인가보네ㅉㅉ 아직도 정신못차린것들이 있다니 ',\n",
       " '구데기같은 프로파간다영화 왜 실검에 올려놨냐 ',\n",
       " '택시기사들이 명량찍은 것 빼고는 좋았다 ',\n",
       " '한남충이나 좋아하는 영화 ']"
      ]
     },
     "execution_count": 22,
     "metadata": {},
     "output_type": "execute_result"
    }
   ],
   "source": [
    "\n",
    "url_page = 'https://movie.naver.com/movie/point/af/list.nhn?st=mcode&sword=146469&target=&page=1'\n",
    "html = urlopen(url_page)\n",
    "soup = BeautifulSoup(html, \"lxml\")\n",
    "r = []\n",
    "review = soup.find_all(\"td\",\"title\")\n",
    "for i in range(len(review)):\n",
    "    review[i] = review[i].get_text()\n",
    "    review[i] = review[i].replace('\\n', '')\n",
    "    review[i] = review[i].replace('택시운전사', '')\n",
    "    review[i] = review[i].replace('\\r', '')\n",
    "    review[i] = review[i].replace('\\t', '')\n",
    "    review[i] = review[i].replace('신고', '')\n",
    "    r.append(review[i])\n",
    "\n",
    "r"
   ]
  },
  {
   "cell_type": "code",
   "execution_count": null,
   "metadata": {},
   "outputs": [],
   "source": [
    "re"
   ]
  },
  {
   "cell_type": "code",
   "execution_count": null,
   "metadata": {},
   "outputs": [],
   "source": [
    "#driver.page_source"
   ]
  },
  {
   "cell_type": "code",
   "execution_count": null,
   "metadata": {},
   "outputs": [],
   "source": [
    "#driver.current_url"
   ]
  },
  {
   "cell_type": "code",
   "execution_count": null,
   "metadata": {},
   "outputs": [],
   "source": [
    "from bs4 import BeautifulSoup\n",
    "from selenium import webdriver\n",
    "from IPython.display import Image\n",
    "import pandas as pd\n",
    "\n",
    "import re"
   ]
  },
  {
   "cell_type": "code",
   "execution_count": null,
   "metadata": {},
   "outputs": [],
   "source": [
    "movie2018 = pd.read_csv('data/movie2018.csv', sep=',', encoding='euc-kr')\n",
    "movie2018"
   ]
  },
  {
   "cell_type": "code",
   "execution_count": null,
   "metadata": {},
   "outputs": [],
   "source": [
    "movie_name = movie2018['영화명']\n",
    "movie_name[1]"
   ]
  },
  {
   "cell_type": "code",
   "execution_count": null,
   "metadata": {},
   "outputs": [],
   "source": []
  }
 ],
 "metadata": {
  "kernelspec": {
   "display_name": "Python 3",
   "language": "python",
   "name": "python3"
  },
  "language_info": {
   "codemirror_mode": {
    "name": "ipython",
    "version": 3
   },
   "file_extension": ".py",
   "mimetype": "text/x-python",
   "name": "python",
   "nbconvert_exporter": "python",
   "pygments_lexer": "ipython3",
   "version": "3.7.0"
  }
 },
 "nbformat": 4,
 "nbformat_minor": 2
}
