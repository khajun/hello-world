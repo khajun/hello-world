{
 "cells": [
  {
   "cell_type": "code",
   "execution_count": 24,
   "metadata": {},
   "outputs": [],
   "source": [
    "a = \"와우 우리는 최고의 인재 입니다.와우 우리는 최고의 인재입니다. 와우 와우 와우\"\n",
    "b = \"모두와 함께 하는 파이썬 \"\n",
    "c = \"이상훈 훈상이 임재범 이수 엠씨더맥스 엠씨더맥스 이상훈\""
   ]
  },
  {
   "cell_type": "code",
   "execution_count": 2,
   "metadata": {},
   "outputs": [],
   "source": [
    "from bs4 import BeautifulSoup \n",
    "from urllib.request import urlopen\n",
    "\n",
    "import pandas as pd\n",
    "import re\n",
    "import nltk\n"
   ]
  },
  {
   "cell_type": "code",
   "execution_count": 7,
   "metadata": {},
   "outputs": [
    {
     "name": "stderr",
     "output_type": "stream",
     "text": [
      "C:\\python\\anaconda352\\lib\\site-packages\\konlpy\\tag\\_okt.py:16: UserWarning: \"Twitter\" has changed to \"Okt\" since KoNLPy v0.4.5.\n",
      "  warn('\"Twitter\" has changed to \"Okt\" since KoNLPy v0.4.5.')\n"
     ]
    }
   ],
   "source": [
    "%matplotlib inline\n",
    "\n",
    "import matplotlib.pyplot as plt\n",
    "from wordcloud import WordCloud\n",
    "\n",
    "from konlpy.corpus import kolaw\n",
    "from konlpy.tag import Twitter\n",
    "twitter = Twitter()"
   ]
  },
  {
   "cell_type": "code",
   "execution_count": 4,
   "metadata": {},
   "outputs": [],
   "source": [
    "filepath = 'gundo_total.txt'\n",
    "f = open(filepath, 'r')\n",
    "gundo_total = f.read()\n",
    "f.close()"
   ]
  },
  {
   "cell_type": "code",
   "execution_count": 25,
   "metadata": {},
   "outputs": [],
   "source": [
    "test = [a, b ,c]\n",
    "result = []\n",
    "for i in test :\n",
    "    #댓글 단어로 파싱 \n",
    "    gundo_nouns = twitter.nouns(i)\n",
    "    #단어의 nltk 형태 변환\n",
    "    gundo_nouns_nltk  = nltk.Text(gundo_nouns, name='군도')\n",
    "    #진행상황 체크 \n",
    "    type(gundo_nouns_nltk), len(gundo_nouns_nltk)\n",
    "    #단어 뽑기 \n",
    "    result.append(gundo_nouns_nltk.vocab().most_common(100))\n",
    "\n",
    "\n"
   ]
  },
  {
   "cell_type": "code",
   "execution_count": 26,
   "metadata": {},
   "outputs": [
    {
     "data": {
      "text/plain": [
       "[[('와우', 5), ('우리', 2), ('최고', 2), ('인재', 2)],\n",
       " [('모두', 1), ('파이썬', 1)],\n",
       " [('이상훈', 2), ('엠씨더맥스', 2), ('훈상', 1), ('임재범', 1), ('이수', 1)]]"
      ]
     },
     "execution_count": 26,
     "metadata": {},
     "output_type": "execute_result"
    }
   ],
   "source": [
    "result"
   ]
  },
  {
   "cell_type": "code",
   "execution_count": null,
   "metadata": {},
   "outputs": [],
   "source": []
  }
 ],
 "metadata": {
  "kernelspec": {
   "display_name": "Python 3",
   "language": "python",
   "name": "python3"
  },
  "language_info": {
   "codemirror_mode": {
    "name": "ipython",
    "version": 3
   },
   "file_extension": ".py",
   "mimetype": "text/x-python",
   "name": "python",
   "nbconvert_exporter": "python",
   "pygments_lexer": "ipython3",
   "version": "3.6.5"
  }
 },
 "nbformat": 4,
 "nbformat_minor": 2
}
