{
 "cells": [
  {
   "cell_type": "markdown",
   "metadata": {},
   "source": [
    "# 데이터 분석 및 시각화\n",
    "\n",
    "## 데이터분석 \n",
    "> - 실패작과 수상작 형태소 분석 \n",
    "- 워드클라우드에서 주요 키워드 비교 \n",
    "- 수상작에서 나타나는 키워드 도출"
   ]
  },
  {
   "cell_type": "code",
   "execution_count": 1,
   "metadata": {},
   "outputs": [
    {
     "name": "stderr",
     "output_type": "stream",
     "text": [
      "C:\\Python\\Anaconda3-52\\lib\\site-packages\\konlpy\\tag\\_okt.py:16: UserWarning: \"Twitter\" has changed to \"Okt\" since KoNLPy v0.4.5.\n",
      "  warn('\"Twitter\" has changed to \"Okt\" since KoNLPy v0.4.5.')\n"
     ]
    }
   ],
   "source": [
    "%matplotlib inline\n",
    "import matplotlib.pyplot as plt\n",
    "from wordcloud import WordCloud\n",
    "\n",
    "from konlpy.corpus import kolaw\n",
    "from konlpy.tag import Twitter\n",
    "twitter = Twitter()"
   ]
  },
  {
   "cell_type": "code",
   "execution_count": 2,
   "metadata": {},
   "outputs": [],
   "source": [
    "# 모든 댓글 합쳐진문장가지고옴 - > 리스트로 영화별로 파싱 ->  각 영화별에 담긴 댓글 단어 탑 100으로 \n",
    "def df_review(filepath):\n",
    "    #파일다듬기 \n",
    "    f = open(filepath, 'r')\n",
    "    review_raw = f.read()\n",
    "    f.close()\n",
    "    review_raw_split=review_raw.split(\"\\n\")\n",
    "    \n",
    "    # 명사 top 100추출 후 result 에 저장 \n",
    "    result =[]\n",
    "    for i in review_raw_split:\n",
    "        nouns = twitter.nouns(i)\n",
    "        nouns_nltk = nltk.Text(nouns, name ='리뷰')\n",
    "        result.append(nouns_nltk.vocab().most_common(100))\n",
    "        j+=1   \n",
    "#     #데이터프레임화해서 저장\n",
    "#     df = pd.DataFrame({\"명사_숫자\":result})\n",
    "#     df.to_csv(\"df_review.csv\", sep=\",\", encoding=\"utf-8\")"
   ]
  },
  {
   "cell_type": "code",
   "execution_count": null,
   "metadata": {},
   "outputs": [],
   "source": [
    "filepath = 'data/_2018_awarded_reviews.csv'\n",
    "f = open(filepath, 'r', encoding = \"UTF-8\")\n",
    "review_raw = f.read()\n",
    "f.close()\n",
    "review_raw"
   ]
  },
  {
   "cell_type": "code",
   "execution_count": null,
   "metadata": {},
   "outputs": [],
   "source": [
    "len(review_raw.split(\"\\n\")[1].split(\",\"))"
   ]
  },
  {
   "cell_type": "code",
   "execution_count": null,
   "metadata": {},
   "outputs": [],
   "source": [
    "#해당 키워드가 있는지 확인 \n",
    "templist = []\n",
    "def tokenfinder(arg1, arg2):\n",
    "    for i in range(len(df['명사_숫자'])):\n",
    "         for j in range(len(arg1.iloc[i][0])):\n",
    "             if arg1.iloc[i]['명사_숫자'][j][0] in arg2:\n",
    "                 templist.append(arg1.iloc[i]['명사_숫자'][j])\n",
    "tokenfinder(df, '역사')\n",
    "templist\n"
   ]
  },
  {
   "cell_type": "code",
   "execution_count": null,
   "metadata": {},
   "outputs": [],
   "source": [
    "#인덱스 바꿔주기\n",
    "df_index = pd.read_csv(\"data/_2018_awarded_movies.csv\")\n",
    "df_index2 =df_index[\"영화명\"]"
   ]
  },
  {
   "cell_type": "code",
   "execution_count": null,
   "metadata": {},
   "outputs": [],
   "source": [
    "filepath = 'allreviews_plusname_test.csv'\n",
    "df_review(filepath)"
   ]
  },
  {
   "cell_type": "markdown",
   "metadata": {},
   "source": [
    "####  상훈오빠가 올린 Process_Award.ipynb 파일 합친 부분 \n",
    "-> 위 부분이랑 겹치는 부분 정리하기!!"
   ]
  },
  {
   "cell_type": "code",
   "execution_count": null,
   "metadata": {},
   "outputs": [],
   "source": [
    "from bs4 import BeautifulSoup \n",
    "from urllib.request import urlopen\n",
    "\n",
    "import pandas as pd\n",
    "import re\n",
    "import nltk\n",
    "\n",
    "%matplotlib inline\n",
    "\n",
    "import matplotlib.pyplot as plt\n",
    "from wordcloud import WordCloud\n",
    "\n",
    "from konlpy.corpus import kolaw\n",
    "from konlpy.tag import Twitter\n",
    "twitter = Twitter()"
   ]
  },
  {
   "cell_type": "code",
   "execution_count": null,
   "metadata": {},
   "outputs": [],
   "source": [
    "def DataReadAndTop(path) :\n",
    "    #파일 불러 오기    \n",
    "    filepath = path\n",
    "    f = open(filepath, 'r')\n",
    "    good = f.read()\n",
    "    f.close()\n",
    "    #들어온 리스트묶음을 영화별로 파싱\n",
    "    good_split=good.split(\"\\n\")\n",
    "    result=[]\n",
    "    j=0\n",
    "    #영화별로 Top 100리스트 만들기. \n",
    "    for i in good_split :\n",
    "        #댓글 단어로 파싱 \n",
    "        gundo_nouns = twitter.nouns(i)\n",
    "        #단어의 nltk 형태 변환\n",
    "        gundo_nouns_nltk  = nltk.Text(gundo_nouns, name='군도')\n",
    "        #진행상황 체크 \n",
    "        type(gundo_nouns_nltk), len(gundo_nouns_nltk)\n",
    "        #단어 뽑기 \n",
    "        result.append(gundo_nouns_nltk.vocab().most_common(100))\n",
    "        print(j)\n",
    "        j+=1\n",
    "    return result\n",
    "\n",
    "def DataToDF(result) :\n",
    "    award_list = [\"오바야\",\"신세계\",\"변호인\",\"사도\",\"내부자들\",\"오바야\"]\n",
    "\n",
    "    #data : 각 영화 Top100이 리스트 하나 하나에 들어가 있어야 합니다.\n",
    "    #award_list : 수상작 영화목록이 있어야 합니다. \n",
    "    df = pd.DataFrame({\"제목\":result})\n",
    "    df.index =  award_list\n",
    "        \n",
    "    return df \n",
    "    \n",
    "def DataWrite(df) : \n",
    "    a = input(\"데이터를 파일로 만드시겠습니까? Y / N \")\n",
    "    if a == \"Y\" :  \n",
    "        b = input(\"파일 이름은? 짧게해주세요\")\n",
    "        df.to_csv(b)\n",
    "        c = print(b,\"이 이름으로 저장되었다. \")\n",
    "    else : \n",
    "        c = print(\"Ok! good bye\")\n",
    "    return c"
   ]
  },
  {
   "cell_type": "code",
   "execution_count": null,
   "metadata": {},
   "outputs": [],
   "source": [
    "award_list = [\"신세계\",\"변호인\",\"사도\",\"내부자들\"]\n",
    "sanghun = SangHun()\n",
    "result = sanghun.DataReadAndTop(\"winners_allreviews_1.csv\")"
   ]
  },
  {
   "cell_type": "code",
   "execution_count": null,
   "metadata": {},
   "outputs": [],
   "source": [
    "df = DataToDF(result)\n",
    "def ShWordCloud(df) : \n",
    "    plt."
   ]
  },
  {
   "cell_type": "code",
   "execution_count": null,
   "metadata": {},
   "outputs": [],
   "source": [
    "from matplotlib import font_manager, rc\n",
    "\n",
    "font_name = font_manager.FontProperties(fname=\"C:/Windows/Fonts/malgun.ttf\").get_name()\n",
    "rc('font', family=font_name)"
   ]
  },
  {
   "cell_type": "code",
   "execution_count": null,
   "metadata": {},
   "outputs": [],
   "source": [
    "wordcloud = WordCloud(font_path='C:/Windows/Fonts/malgun.ttf',\n",
    "                      background_color='white',\n",
    "                      relative_scaling =0.2).generate_from_frequencies(dict(df[\"제목\"][1]))"
   ]
  },
  {
   "cell_type": "code",
   "execution_count": null,
   "metadata": {},
   "outputs": [],
   "source": [
    "plt.figure(figsize=(20,12))\n",
    "plt.imshow(wordcloud)\n",
    "plt.axis('off')"
   ]
  },
  {
   "cell_type": "markdown",
   "metadata": {},
   "source": [
    "#### Process_Award2.ipynb 부분 합본 "
   ]
  },
  {
   "cell_type": "code",
   "execution_count": null,
   "metadata": {},
   "outputs": [],
   "source": [
    "f = open(\"winners_allreviews_3.csv\", 'r')\n",
    "good = f.read()\n",
    "f.close()\n",
    "\n",
    "j=0\n",
    "#영화별로 Top 100리스트 만들기. \n",
    "#댓글 단어로 파싱 \n",
    "gundo_nouns = twitter.nouns(good)\n",
    "#단어의 nltk 형태 변환\n",
    "gundo_nouns_nltk  = nltk.Text(gundo_nouns, name='이상훈작품')\n",
    "#진행상황 체크 \n",
    "type(gundo_nouns_nltk), len(gundo_nouns_nltk)\n",
    "#단어 뽑기 \n",
    "result_total=gundo_nouns_nltk.vocab().most_common(200)\n",
    "\n",
    "result_total"
   ]
  },
  {
   "cell_type": "code",
   "execution_count": null,
   "metadata": {},
   "outputs": [],
   "source": [
    "df_total=pd.DataFrame({\"결과\":result_total})\n",
    "df_total[\"결과\"]"
   ]
  },
  {
   "cell_type": "code",
   "execution_count": null,
   "metadata": {},
   "outputs": [],
   "source": [
    "dict(df_total[\"결과\"].values)[\"이정재\"]\n",
    "print(dict(df_total[\"결과\"].values)[\"천우희\"]/sum(dict(df_total[\"결과\"].values).values())*100)"
   ]
  },
  {
   "cell_type": "code",
   "execution_count": null,
   "metadata": {},
   "outputs": [],
   "source": [
    "wordcloud = WordCloud(font_path='C:/Windows/Fonts/malgun.ttf',\n",
    "                      background_color='white',\n",
    "                      relative_scaling =0.2).generate_from_frequencies(dict(df_total[\"결과\"].values))"
   ]
  },
  {
   "cell_type": "code",
   "execution_count": null,
   "metadata": {},
   "outputs": [],
   "source": [
    "plt.figure(figsize=(30,20))\n",
    "plt.imshow(wordcloud)\n",
    "plt.axis('off')"
   ]
  },
  {
   "cell_type": "markdown",
   "metadata": {},
   "source": [
    "# 가설 1 검정결과 \n",
    "\n",
    "### 가설1) 이전 수상작 댓글에서 연기력,배우와 관련된 단어들이 많이 언급될 것이다.\n",
    "\n",
    "#### -> 워드 클라우드 그려본 결과 도출된 키워드 : 연기 / 연기력 / 배우이름 / 감동 ....\n",
    "    (하준오빠가 넣어서 카운팅한 키워드들 적으면 될 듯!)\n",
    "   > - 실패작과 수상작 형태소 분석 \n",
    "- 워드클라우드에서 주요 키워드 비교 \n",
    "- 수상작에서 나타나는 키워드 도출"
   ]
  },
  {
   "cell_type": "markdown",
   "metadata": {},
   "source": [
    "# 가설 2 검정결과 \n",
    "\n",
    "### 가설2) 가설1에서 도출한 단어들이 많이 언급된 영화의 배우가 2018 청룡영화제 남녀주연상을 수상할것이다.\n",
    "\n",
    "\n",
    "> - 70개 영화 형태소 분석\n",
    "- 가설1의 키워드 빈도 그래프 그리기\n",
    "(X축 영화명, Y축 키워드 언급횟수)"
   ]
  },
  {
   "cell_type": "code",
   "execution_count": null,
   "metadata": {},
   "outputs": [],
   "source": [
    "#그래프 함수 참고 \n",
    "\n",
    "# import matplotlib.pyplot as plt\n",
    "# import pandas as pd\n",
    "# from matplotlib import font_manager, rc\n",
    "# #그래프 그려주는 함수 \n",
    "# font_name = font_manager.FontProperties(fname=\"C:/Windows/Fonts/MALGUN.TTF\").get_name()\n",
    "# rc('font', family=font_name)\n",
    "# #맑은 고딕체 가져와서 보여주기 \n",
    "\n",
    "# plt.rcParams['figure.figsize'] = (10,6)\n",
    "# #그래프 사이즈 지정"
   ]
  },
  {
   "cell_type": "code",
   "execution_count": null,
   "metadata": {},
   "outputs": [],
   "source": [
    "# #타이타닉 예제 참고\n",
    "# t1 = [ 1, 2, 3 ]\n",
    "# t2 = [ 5, 6, 7 ]\n",
    "# #4자리에는 아무것도 안넣어서 한칸 띄워주려고\n",
    "# plt.figure(figsize=(10,6))\n",
    "# plt.bar(t1, count_f, color='r', label='여자')\n",
    "# plt.bar(t2, count_m, color='b', label='남자')\n",
    "# plt.xlabel('객실등급별')\n",
    "# plt.ylabel('승객수')\n",
    "# plt.legend(title='Sex')\n",
    "\n",
    "# t = list(range(1,8))\n",
    "# plt.xticks(t , ('1st','2nd','3rd','','1st','2nd','3rd'))  \n",
    "# # set the locations of the xticks\n",
    "# #그림 그려주기 xticks :x좌표값에 각각 이름을 붙여주는 것 \n",
    "# plt.show()"
   ]
  },
  {
   "cell_type": "markdown",
   "metadata": {},
   "source": [
    "# 결론\n",
    "> - 가설 1,2 검정결과 (채택 or 기각)\n",
    "> - 우리가 선정한 top 5와 후보작 5와 비교 (예측성공률 확인) \n",
    "> - 청룡영화제 남녀주연상 트랜드 가볍게 언급"
   ]
  },
  {
   "cell_type": "code",
   "execution_count": null,
   "metadata": {},
   "outputs": [],
   "source": []
  }
 ],
 "metadata": {
  "kernelspec": {
   "display_name": "Python 3",
   "language": "python",
   "name": "python3"
  },
  "language_info": {
   "codemirror_mode": {
    "name": "ipython",
    "version": 3
   },
   "file_extension": ".py",
   "mimetype": "text/x-python",
   "name": "python",
   "nbconvert_exporter": "python",
   "pygments_lexer": "ipython3",
   "version": "3.6.5"
  }
 },
 "nbformat": 4,
 "nbformat_minor": 2
}
